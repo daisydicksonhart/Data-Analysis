{
 "cells": [
  {
   "cell_type": "code",
   "execution_count": null,
   "id": "8d33bd5d",
   "metadata": {
    "scrolled": true
   },
   "outputs": [],
   "source": [
    "pip install selenium"
   ]
  },
  {
   "cell_type": "code",
   "execution_count": null,
   "id": "e3ea69bf",
   "metadata": {},
   "outputs": [],
   "source": [
    "pip install webdriver_manager"
   ]
  },
  {
   "cell_type": "code",
   "execution_count": 3,
   "id": "fe14f9f4",
   "metadata": {},
   "outputs": [
    {
     "name": "stderr",
     "output_type": "stream",
     "text": [
      "C:\\Users\\Daisy Dickson\\AppData\\Local\\Temp\\ipykernel_12604\\564461727.py:10: DeprecationWarning: executable_path has been deprecated, please pass in a Service object\n",
      "  driver = webdriver.Chrome(path)\n"
     ]
    }
   ],
   "source": [
    "from selenium import webdriver\n",
    "from webdriver_manager.chrome import ChromeDriverManager\n",
    "from selenium.webdriver.common.by import By\n",
    "from selenium.webdriver.support.ui import Select\n",
    "import pandas as pd\n",
    "import time\n",
    "\n",
    "website = 'https://www.adamchoi.co.uk/overs/detailed'\n",
    "path = r\"C:\\Users\\Daisy Dickson\\Desktop\\Apps\\chromedriver.exe\"\n",
    "driver = webdriver.Chrome(path)\n",
    "driver.get(website)\n",
    "\n",
    "all_matches_button = driver.find_element(by = By.XPATH,value = '//label[@analytics-event=\"All matches\"]')\n",
    "\n",
    "#all_matches_button = driver.find_element_by_xpath('//label[@analytics-event=\"All matches\"]')\n",
    "all_matches_button.click()\n",
    "\n",
    "\n",
    "dropdown = Select(driver.find_element(by=By.ID, value='country'))\n",
    "dropdown.select_by_visible_text('Spain')\n",
    "\n",
    "time.sleep(3)\n",
    "\n",
    "date = []\n",
    "home_team = []\n",
    "score = []\n",
    "away_team = []\n",
    "\n",
    "matches = driver.find_elements(by = By.TAG_NAME,value = 'tr')\n",
    "\n",
    "for match in matches:\n",
    "    date.append(match.find_element(by=By.XPATH, value = './td[1]').text)\n",
    "    home_team.append(match.find_element(by=By.XPATH, value = './td[2]').text)   \n",
    "    score.append(match.find_element(by=By.XPATH, value = './td[3]').text)\n",
    "    away_team.append(match.find_element(by=By.XPATH, value = './td[4]').text)\n",
    "            \n",
    "\n",
    "\n",
    "driver.quit()\n",
    "\n",
    "#df = pd.DataFrame({'Date': date, 'Home_team': home_team, 'Score': score, 'Away_team':away_team})\n",
    "#df.to_csv('football_scraping', index=False)\n"
   ]
  },
  {
   "cell_type": "code",
   "execution_count": 4,
   "id": "254d09fd",
   "metadata": {},
   "outputs": [
    {
     "name": "stdout",
     "output_type": "stream",
     "text": [
      "           Date   Home_team  Score    Away_team\n",
      "0    14-08-2021      Alaves  1 - 4  Real Madrid\n",
      "1    21-08-2021      Alaves  0 - 1     Mallorca\n",
      "2    27-08-2021    Valencia  3 - 0       Alaves\n",
      "3    18-09-2021      Alaves  0 - 2      Osasuna\n",
      "4    22-09-2021     Espanol  1 - 0       Alaves\n",
      "..          ...         ...    ...          ...\n",
      "755  30-04-2022      Alaves  2 - 1   Villarreal\n",
      "756  08-05-2022  Villarreal  1 - 1      Sevilla\n",
      "757  12-05-2022   Vallecano  1 - 5   Villarreal\n",
      "758  15-05-2022  Villarreal  1 - 2     Sociedad\n",
      "759  22-05-2022   Barcelona  0 - 2   Villarreal\n",
      "\n",
      "[760 rows x 4 columns]\n"
     ]
    }
   ],
   "source": [
    "df= pd.read_csv(r\"C:\\Users\\Daisy Dickson\\Downloads\\football_scraping\")\n",
    "print(df)"
   ]
  }
 ],
 "metadata": {
  "kernelspec": {
   "display_name": "Python 3 (ipykernel)",
   "language": "python",
   "name": "python3"
  },
  "language_info": {
   "codemirror_mode": {
    "name": "ipython",
    "version": 3
   },
   "file_extension": ".py",
   "mimetype": "text/x-python",
   "name": "python",
   "nbconvert_exporter": "python",
   "pygments_lexer": "ipython3",
   "version": "3.9.12"
  }
 },
 "nbformat": 4,
 "nbformat_minor": 5
}
